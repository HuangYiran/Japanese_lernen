{
 "cells": [
  {
   "cell_type": "markdown",
   "metadata": {},
   "source": [
    "## 使用的场景\n",
    "- 在日常对话中，面对长者(上司等)或者陌生人(包括同辈但不熟悉)一般是用礼貌模式。而和朋友，同事或家庭成员对话的时候，一般是使用简单风格的。\n",
    "- 在书写的情境下，一般书信多是用礼貌风格写的。而在报告和日记等中，反之使用简单风格。"
   ]
  },
  {
   "cell_type": "markdown",
   "metadata": {},
   "source": [
    "## 简单模式\n",
    "除了字形方面的改变之外，简单模式的简单还体现在:\n",
    "- 在一般疑问句中疑问词か，一般进行省略，转而使用语调来表达疑问。\n",
    "- 在使用简单模式的时候，一些比较的明显的介词可以直接省略。\n",
    "    - ごはん「を」　食べる？\n",
    "    - 明日　京都市「へ」　ぃかない？\n",
    "- 在简单模式中，い在て模式下为ぃる，这时い经常会被省略\n",
    "    - 辞書、持って　「い」る？\n",
    "        - うん、持って　「い」る\n",
    "        - ううん、持って　「い」ない\n",
    "- けど和が的语义相似，在简单模式中，经常用けど代替が\n",
    "    - その　カレー「は」　美味しい？\n",
    "        - うん、辛いけど、美味しい\n",
    "    - 相撲のチケット「が」あるけど、一緒に行かない？\n",
    "        -　いいね"
   ]
  },
  {
   "cell_type": "code",
   "execution_count": null,
   "metadata": {
    "collapsed": true
   },
   "outputs": [],
   "source": []
  }
 ],
 "metadata": {
  "kernelspec": {
   "display_name": "Python2-tf",
   "language": "python",
   "name": "python2"
  },
  "language_info": {
   "codemirror_mode": {
    "name": "ipython",
    "version": 2
   },
   "file_extension": ".py",
   "mimetype": "text/x-python",
   "name": "python",
   "nbconvert_exporter": "python",
   "pygments_lexer": "ipython2",
   "version": "2.7.13"
  }
 },
 "nbformat": 4,
 "nbformat_minor": 2
}
