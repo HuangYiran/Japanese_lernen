{
 "cells": [
  {
   "cell_type": "markdown",
   "metadata": {},
   "source": [
    "## einfache Form と　思います\n",
    "阐述个人观点：表示我认为，我觉得等。一般用と来引出思考的内容。这个句型主要使用在一下两个方面\n",
    "##### 表达个人的猜测，如果猜测的内容是否定的，那么使と之前的句子为否定形式\n",
    "- 明日雨が降ると　思います\n",
    "-　テレーザちやんは　もう　ねたと　思います\n",
    "- ミラーさんは　この　ニュースを　知って　いますか\n",
    "    -　いいえ、知らないと　思います\n",
    "    \n",
    "##### 表达个人观点\n",
    "- 日本は　物価が　高いと　思います"
   ]
  },
  {
   "cell_type": "code",
   "execution_count": null,
   "metadata": {
    "collapsed": true
   },
   "outputs": [],
   "source": []
  }
 ],
 "metadata": {
  "kernelspec": {
   "display_name": "Python2-tf",
   "language": "python",
   "name": "python2"
  },
  "language_info": {
   "codemirror_mode": {
    "name": "ipython",
    "version": 2
   },
   "file_extension": ".py",
   "mimetype": "text/x-python",
   "name": "python",
   "nbconvert_exporter": "python",
   "pygments_lexer": "ipython2",
   "version": "2.7.13"
  }
 },
 "nbformat": 4,
 "nbformat_minor": 2
}
